{
 "cells": [
  {
   "cell_type": "markdown",
   "metadata": {},
   "source": [
    "# Outline 2021-05-27"
   ]
  },
  {
   "cell_type": "markdown",
   "metadata": {},
   "source": [
    "## 1. Introduction"
   ]
  },
  {
   "cell_type": "markdown",
   "metadata": {},
   "source": [
    "#### 郑玉 .....\n",
    "#### 张帅 .....\n",
    "#### 毕凯 .....\n",
    "#### 张衡衡 ....."
   ]
  },
  {
   "cell_type": "markdown",
   "metadata": {},
   "source": [
    "## 2.技术交流如何进行 ?"
   ]
  },
  {
   "cell_type": "markdown",
   "metadata": {},
   "source": [
    "#### 自由分享 ？？\n",
    "#### 根据指定的任务进行分享 ？？\n",
    "#### 二者结合 ？？"
   ]
  },
  {
   "cell_type": "markdown",
   "metadata": {},
   "source": [
    "## 3. 交流什么 ？"
   ]
  },
  {
   "cell_type": "markdown",
   "metadata": {},
   "source": [
    "### 【问题的广度】 \n",
    "#### `numpy`, `pandas`,`xarry`,`netCDF`,`Cartory`,`Folium`,....\n",
    "### 【问题的深度】\n",
    "#### 模块的功能, 如何界限到哪一步？"
   ]
  },
  {
   "cell_type": "markdown",
   "metadata": {},
   "source": [
    "## 4 如何交流  ?\n",
    "####  (a)  PPT ?  easy to make \n",
    "####  (b)   ipynb note, 可以嵌入代码"
   ]
  },
  {
   "cell_type": "markdown",
   "metadata": {},
   "source": [
    "## 5. 工程项目开发\n",
    "### 1. 哪些项目可以开发？\n",
    "####      1. 通用标准算法, 绘图, 如天气背景图, 天气雷达图, 地面图 等等\n",
    "####      2. 非标准数据的标准化格式处理\n"
   ]
  }
 ],
 "metadata": {
  "kernelspec": {
   "display_name": "Python 3 (Spyder)",
   "language": "python3",
   "name": "python3"
  },
  "language_info": {
   "codemirror_mode": {
    "name": "ipython",
    "version": 3
   },
   "file_extension": ".py",
   "mimetype": "text/x-python",
   "name": "python",
   "nbconvert_exporter": "python",
   "pygments_lexer": "ipython3",
   "version": "3.8.5"
  }
 },
 "nbformat": 4,
 "nbformat_minor": 4
}
