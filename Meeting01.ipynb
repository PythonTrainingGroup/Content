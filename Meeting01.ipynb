{
 "cells": [
  {
   "cell_type": "markdown",
   "metadata": {},
   "source": [
    "# Outline 2021-05-27"
   ]
  },
  {
   "cell_type": "markdown",
   "metadata": {},
   "source": [
    "## 1. Introduction"
   ]
  },
  {
   "cell_type": "markdown",
   "metadata": {},
   "source": [
    "#### 毕凯 .....\n",
    "#### 张帅 .....\n",
    "#### 张衡衡 .....\n",
    "#### 郑玉 .....\n",
    "\n",
    "#### 。。。。。。。"
   ]
  },
  {
   "cell_type": "markdown",
   "metadata": {},
   "source": [
    "## 2.技术交流如何进行 ?"
   ]
  },
  {
   "cell_type": "markdown",
   "metadata": {},
   "source": [
    "#### 自由分享 ？？ Topic\n",
    "#### 根据指定的任务进行分享 ？？\n",
    "#### 二者结合 ？？"
   ]
  },
  {
   "cell_type": "markdown",
   "metadata": {},
   "source": [
    "## 3. 交流什么 ？"
   ]
  },
  {
   "cell_type": "markdown",
   "metadata": {},
   "source": [
    "### 【问题的广度】 \n",
    "#### `numpy`, `pandas`,`xarry`,`netCDF`,`Cartory`,`Folium`,`Matplotlib`,...\n",
    "### 【问题的深度】\n",
    "#### 模块的功能, 如何界限到哪一步？ 实用性或者研究"
   ]
  },
  {
   "cell_type": "markdown",
   "metadata": {},
   "source": [
    "## 4 如何交流  ?\n",
    "####  (a)  PPT ?  easy to make \n",
    "####  (b)   ipynb note, 可以嵌入代码"
   ]
  },
  {
   "cell_type": "markdown",
   "metadata": {},
   "source": [
    "## 5. 工程项目开发\n",
    "### 1. 哪些项目可以开发？\n",
    "#### (a). 通用标准算法, \n",
    "#### (b). 常见绘图程序, 如天气背景图, 天气雷达图, 地面图 等等\n",
    "#### (c). 非标准数据的标准化格式处理\n",
    "#### (d). 常用气象仪器的标准化处理 （算法，绘图等）\n",
    "### 2. 开发的项目代码如何面向其他科研工作者？\n",
    "#### (a) 基于web开发，数据提交至web然后返回结果给用户, 用户是否希望将数据上传？\n",
    "#### (b) 基于传统的软件开发\n",
    "#### 。。。。。。\n",
    "#### 3. 如何保护代码的知识产权\n",
    "#### 4. 项目开发的进度\n",
    "#### 5. 项目分工"
   ]
  },
  {
   "cell_type": "markdown",
   "metadata": {},
   "source": [
    "## 6.其他的问题\n",
    "### 会议时间投票地址： https://terminplaner4.dfn.de/dPFvykT14PoafckP 请于分享会的前一周的周末完成投票\n",
    "### 主页维护： https://pythontraininggroup.github.io/ \n",
    "### 主页放什么？ 怎么展示？ 面对的群体是谁？\n",
    "### 。。。。"
   ]
  },
  {
   "cell_type": "code",
   "execution_count": null,
   "metadata": {},
   "outputs": [],
   "source": []
  }
 ],
 "metadata": {
  "kernelspec": {
   "display_name": "Python 3 (Spyder)",
   "language": "python3",
   "name": "python3"
  },
  "language_info": {
   "codemirror_mode": {
    "name": "ipython",
    "version": 3
   },
   "file_extension": ".py",
   "mimetype": "text/x-python",
   "name": "python",
   "nbconvert_exporter": "python",
   "pygments_lexer": "ipython3",
   "version": "3.8.5"
  }
 },
 "nbformat": 4,
 "nbformat_minor": 4
}
